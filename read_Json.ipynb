{
 "cells": [
  {
   "cell_type": "code",
   "execution_count": 6,
   "id": "d4e896fa-8976-4c5a-8155-b2c5a33eb1c5",
   "metadata": {},
   "outputs": [
    {
     "name": "stdout",
     "output_type": "stream",
     "text": [
      "SR0: [15, 15, 15, 15, 15, 15, 15, 15, 15, 15, 15, 15, 15, 15, 15, 15, 15, 15, 15, 15, 15, 15, 15, 15, 15, 15, 15, 20, 15, 15, 15, 15, 15, 15, 15, 15, 15, 15, 15, 15, 15, 15, 15, 15, 15, 20, 15, 15, 15, 15, 15, 15, 15, 15, 20, 20, 15, 15, 15, 15, 15, 15, 15, 20, 15, 20, 15, 15, 15, 15, 15, 15, 15, 15, 15, 15, 15, 20, 15, 15, 20, 15, 15, 15, 15, 15, 15, 15, 15, 15, 15, 15, 20, 15, 15, 15, 15, 15, 15, 15, 20, 15, 15, 15, 15, 15, 15, 20, 15, 15, 20, 15, 15, 20, 20, 20, 15, 15, 15, 15, 15]\n"
     ]
    }
   ],
   "source": [
    "import json\n",
    "def leggi_json(file_path):\n",
    "    with open(file_path, 'r') as file:\n",
    "        return json.load(file)\n",
    "\n",
    "\n",
    "def crea_array_soglie(dizionario_soglie, canale_inizio, canale_fine):\n",
    "    \n",
    "    array_soglie = [0] * (canale_fine - canale_inizio + 1)\n",
    "\n",
    "    for canale, soglia in dizionario_soglie.items():\n",
    "        indice = int(canale) - canale_inizio\n",
    "        array_soglie[indice] = soglia\n",
    "\n",
    "    return array_soglie\n",
    "\n",
    "file_json = 'sr0_threshold.json'\n",
    "#file_json = 'sr1_threshold.json'\n",
    "\n",
    "soglie_dizionario = leggi_json(file_json)\n",
    "\n",
    "\n",
    "array_soglie = crea_array_soglie(soglie_dizionario, 2000, 2120)\n",
    "\n",
    "print(\"SR0:\",array_soglie)"
   ]
  },
  {
   "cell_type": "code",
   "execution_count": null,
   "id": "269aa653-e558-4408-a888-fb5677638e2b",
   "metadata": {},
   "outputs": [],
   "source": []
  }
 ],
 "metadata": {
  "kernelspec": {
   "display_name": "Python 3 (ipykernel)",
   "language": "python",
   "name": "python3"
  },
  "language_info": {
   "codemirror_mode": {
    "name": "ipython",
    "version": 3
   },
   "file_extension": ".py",
   "mimetype": "text/x-python",
   "name": "python",
   "nbconvert_exporter": "python",
   "pygments_lexer": "ipython3",
   "version": "3.10.9"
  }
 },
 "nbformat": 4,
 "nbformat_minor": 5
}
