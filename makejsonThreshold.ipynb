{
 "cells": [
  {
   "cell_type": "code",
   "execution_count": 1,
   "id": "b2563fc9-6147-4aab-b1af-8f5936fb5e30",
   "metadata": {},
   "outputs": [],
   "source": [
    "import json\n",
    "\n",
    "canali = range(2000, 2119)\n",
    "soglia_default = 15\n",
    "\n",
    "\n",
    "canali_speciali_SR0 = {\n",
    "    2027: 20,\n",
    "    2045: 20,\n",
    "    2054: 20,\n",
    "    2055: 20,\n",
    "    2063: 20,\n",
    "    2065: 20,\n",
    "    2077: 20,\n",
    "    2080: 20,\n",
    "    2092: 20,\n",
    "    2100: 20,\n",
    "    2107: 20,\n",
    "    2110: 20,\n",
    "    2113: 20,\n",
    "    2114: 20,\n",
    "    2115: 20\n",
    "}\n",
    "\n",
    "soglie = {canale: canali_speciali_SR0.get(canale, soglia_default) for canale in canali}\n",
    "\n",
    "\n",
    "json_soglie = json.dumps(soglie, indent=4)\n",
    "with open(\"sr0_threshold.json\", \"w\") as file:\n",
    "    file.write(json_soglie)"
   ]
  },
  {
   "cell_type": "code",
   "execution_count": 2,
   "id": "639ad862-afa9-40db-a798-176e3213ca55",
   "metadata": {},
   "outputs": [],
   "source": [
    "canali = range(2000, 2119)\n",
    "soglia_default = 15\n",
    "canali_speciali_SR1 = {\n",
    "    2045: 20,\n",
    "    2055: 20,\n",
    "    2057: 20,\n",
    "    2063: 20,\n",
    "    2065: 20,\n",
    "    2100: 20,\n",
    "    2110: 20,\n",
    "    2113: 20,\n",
    "    2114: 20,\n",
    "    2115: 20\n",
    "}\n",
    "\n",
    "soglie = {canale: canali_speciali_SR1.get(canale, soglia_default) for canale in canali}\n",
    "\n",
    "\n",
    "json_soglie = json.dumps(soglie, indent=4)\n",
    "with open(\"sr1_threshold.json\", \"w\") as file:\n",
    "    file.write(json_soglie)"
   ]
  },
  {
   "cell_type": "code",
   "execution_count": null,
   "id": "ba31f5c7-3d83-4279-a3f9-747d51534b1b",
   "metadata": {},
   "outputs": [],
   "source": []
  }
 ],
 "metadata": {
  "kernelspec": {
   "display_name": "Python 3 (ipykernel)",
   "language": "python",
   "name": "python3"
  },
  "language_info": {
   "codemirror_mode": {
    "name": "ipython",
    "version": 3
   },
   "file_extension": ".py",
   "mimetype": "text/x-python",
   "name": "python",
   "nbconvert_exporter": "python",
   "pygments_lexer": "ipython3",
   "version": "3.10.9"
  }
 },
 "nbformat": 4,
 "nbformat_minor": 5
}
